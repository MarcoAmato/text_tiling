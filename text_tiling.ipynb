{
 "cells": [
  {
   "cell_type": "markdown",
   "source": [
    "We will implement a text tiling algorithm to segment the text into coherent sections. The algorithm is based on the following steps:\n",
    "1. Split the text in sentences\n",
    "2. Clean the sentences by removing stopwords and punctuation\n",
    "3. Find frequency table for the words in the sentences\n",
    "    - The x-axis is the sentence number\n",
    "    - The y-axis is each word\n",
    "    - Each cell is the frequency of the word in the sentence\n",
    "4. Initialize blocks of text with a fixed size\n",
    "5. Iterate until no change in the blocks\n",
    "    - Calculate the intra-group cohesion for each block\n",
    "    - Find blocks of text where the topic changes (the cohesion drops in these blocks)\n",
    "    - Move block boundaries to the topic change points\n",
    "6. Return the blocks of text"
   ],
   "metadata": {
    "collapsed": false
   },
   "id": "f2128fb72ea87456"
  },
  {
   "cell_type": "code",
   "outputs": [],
   "source": [
    "import nltk\n",
    "from nltk.corpus import stopwords\n",
    "from sklearn.feature_extraction.text import TfidfVectorizer\n",
    "from sklearn.metrics.pairwise import cosine_similarity\n",
    "import numpy as np\n",
    "from collections import Counter\n",
    "from typing import List\n",
    "from string import punctuation\n"
   ],
   "metadata": {
    "collapsed": false,
    "ExecuteTime": {
     "end_time": "2024-04-04T15:42:14.314516Z",
     "start_time": "2024-04-04T15:42:10.431197Z"
    }
   },
   "id": "5dd6f9034c1ec2a7",
   "execution_count": 54
  },
  {
   "cell_type": "code",
   "outputs": [],
   "source": [
    "class Sentence:\n",
    "    def __init__(self, text: str, words: List[str]):\n",
    "        self.text = text\n",
    "        self.words = words\n",
    "        \n",
    "    def __repr__(self):\n",
    "        return self.text\n",
    "    \n",
    "class Block:\n",
    "    def __init__(self, sentences: List[Sentence]):\n",
    "        self.sentences = sentences\n",
    "        \n",
    "    def __len__(self):\n",
    "        return len(self.sentences)\n",
    "        \n",
    "    def __repr__(self):\n",
    "        return \" \".join([sentence.text for sentence in self.sentences])\n",
    "    \n",
    "    def get_string_sentences(self) -> List[str]:\n",
    "        return [\" \".join(sentence.words) for sentence in self.sentences]"
   ],
   "metadata": {
    "collapsed": false,
    "ExecuteTime": {
     "end_time": "2024-04-04T15:42:14.346097Z",
     "start_time": "2024-04-04T15:42:14.317454Z"
    }
   },
   "id": "ffba7c5a7aaf9b22",
   "execution_count": 55
  },
  {
   "cell_type": "code",
   "outputs": [],
   "source": [
    "# retrieve text from res/mixed_texts.txt\n",
    "with open('res/mixed_texts.txt', 'r') as file:\n",
    "    raw_text = file.read()"
   ],
   "metadata": {
    "collapsed": false,
    "ExecuteTime": {
     "end_time": "2024-04-04T15:42:14.377323Z",
     "start_time": "2024-04-04T15:42:14.351639Z"
    }
   },
   "id": "ea8ccdbbb0b10862",
   "execution_count": 56
  },
  {
   "cell_type": "code",
   "outputs": [
    {
     "data": {
      "text/plain": "[In order to get to punch his badge at 08:30, 16 years before Fantozzi began setting alarm clock at 06:15.,\n Today, after continuous experiments and improvements, he manage to set it at 07:51: the limit of humanly possibilities.,\n Everything is calculated on the edge of seconds: 5 seconds to regain consciousness; 4 seconds to overcome impact of seeing his wife, and 6 more seconds to ask himself -as always with any plausible answer- whatever pushed him to marry that kind of curious pet; 3 seconds to drink Mrs Fantozzi's coffee: 3000 Fahreneit Degrees!,\n From 8 to 10 seconds to cool down his burned tongue... 2.5 seconds to kiss his daughter Mariangela; brioche and Latte meanwhile hair brushing, brushing coffee-flavoured teeth with minty toothpaste, resulting in an instantaneous bowel movement... all of this performed in 6 seconds, a European Record!,\n He still has a 3-minute fortune to get dressed and run to the bus stop to catch the 08:01 bus.]"
     },
     "execution_count": 57,
     "metadata": {},
     "output_type": "execute_result"
    }
   ],
   "source": [
    "def preprocess_text(text: str) -> List[Sentence]:\n",
    "    \"\"\"\n",
    "    Preprocess the text by splitting it into sentences and removing unimportant words.\n",
    "    :param text: the text to be preprocessed\n",
    "    :return: a list of relevant words extracted from text\n",
    "    \"\"\"\n",
    "    # get the list of stopwords\n",
    "    stopwords_list = stopwords.words('english')\n",
    "    \n",
    "    sentence_list: List[Sentence] = []\n",
    "\n",
    "    # split the text into sentences\n",
    "    sentences = nltk.sent_tokenize(text)\n",
    "    \n",
    "    # remove stopwords and punctuation\n",
    "    for sentence in sentences:\n",
    "        relevant_words = [word.lower() for word in nltk.word_tokenize(sentence) if word.lower() not in stopwords_list and word not in punctuation]\n",
    "        sentence_list.append(Sentence(sentence, relevant_words))\n",
    "        \n",
    "    return sentence_list\n",
    "\n",
    "preprocess_text(raw_text)[:5]"
   ],
   "metadata": {
    "collapsed": false,
    "ExecuteTime": {
     "end_time": "2024-04-04T15:42:14.468822Z",
     "start_time": "2024-04-04T15:42:14.402063Z"
    }
   },
   "id": "d4fb0e2b6091c421",
   "execution_count": 57
  },
  {
   "cell_type": "code",
   "outputs": [],
   "source": [
    "# # create a frequency table for the words in the sentences\n",
    "# frequency_table = []\n",
    "# \n",
    "# for sentence in cleaned_sentences:\n",
    "#     # get counts of word frequency in the sentence\n",
    "#     frequency = Counter(sentence)\n",
    "#     frequency_table.append(frequency)\n",
    "#     \n",
    "# # print the frequency table for the first 5 sentences\n",
    "# frequency_table[:5]"
   ],
   "metadata": {
    "collapsed": false,
    "ExecuteTime": {
     "end_time": "2024-04-04T15:42:14.500542Z",
     "start_time": "2024-04-04T15:42:14.473714Z"
    }
   },
   "id": "74007fabc282ffa8",
   "execution_count": 58
  },
  {
   "cell_type": "code",
   "outputs": [],
   "source": [
    "def initialize_blocks(sentences: List[Sentence], num_blocks: int) -> List[List[str]]:\n",
    "    \"\"\"\n",
    "    Initialize blocks of text with a fixed size. Each block will contain a subset of the text.\n",
    "    :param sentences: the list of sentences to be split into blocks\n",
    "    :param num_blocks: the number of blocks to initialize\n",
    "    :return: a list of blocks of text\n",
    "    \"\"\"\n",
    "    blocks = []\n",
    "    block_size = len(sentences) // num_blocks\n",
    "    \n",
    "    for i in range(num_blocks):\n",
    "        start = i * block_size\n",
    "        end = (i + 1) * block_size\n",
    "        block = sentences[start:end]\n",
    "        blocks.append(block)\n",
    "        \n",
    "    return blocks\n",
    "\n",
    "# Example usage\n",
    "# sentences = preprocess_text(raw_text)\n",
    "# blocks = initialize_blocks(sentences, 3)\n",
    "# for i, block in enumerate(blocks):\n",
    "#     print(f\"Block {i+1}:\")\n",
    "#     for sentence in block:\n",
    "#         print(sentence)\n",
    "#     print()"
   ],
   "metadata": {
    "collapsed": false,
    "ExecuteTime": {
     "end_time": "2024-04-04T15:42:14.546535Z",
     "start_time": "2024-04-04T15:42:14.514681Z"
    }
   },
   "id": "531ef585d4d1f02",
   "execution_count": 59
  },
  {
   "cell_type": "code",
   "outputs": [
    {
     "name": "stdout",
     "output_type": "stream",
     "text": [
      "3\n",
      "Intra-document cohesion score: [0.0, 0.4179779031144455]\n"
     ]
    }
   ],
   "source": [
    "def calculate_intra_block_cohesion(block: Block) -> List[float]:\n",
    "\n",
    "    # TF-IDF vectorization\n",
    "    vectorizer = TfidfVectorizer()\n",
    "    tfidf_matrix = vectorizer.fit_transform(block.get_string_sentences())\n",
    "\n",
    "    # Calculate cosine similarity between adjacent sentences\n",
    "    cohesion_scores = []\n",
    "    for i in range(len(block) - 1):\n",
    "        sim_score = cosine_similarity(tfidf_matrix[i], tfidf_matrix[i+1])\n",
    "        cohesion_scores.append(sim_score[0][0])\n",
    "    \n",
    "    return cohesion_scores\n",
    "\n",
    "# Example usage\n",
    "text = \"This is a sample text. It demonstrates how to calculate intra-document cohesion between sentences. Intra-document cohesion is important for understanding the coherence of a document.\"\n",
    "sentences = preprocess_text(text)\n",
    "block = Block(sentences)\n",
    "cohesion_score = calculate_intra_block_cohesion(block)\n",
    "print(\"Intra-document cohesion score:\", cohesion_score)"
   ],
   "metadata": {
    "collapsed": false,
    "ExecuteTime": {
     "end_time": "2024-04-04T15:43:03.724848Z",
     "start_time": "2024-04-04T15:43:03.665960Z"
    }
   },
   "id": "200db4fe52615fdc",
   "execution_count": 62
  },
  {
   "cell_type": "code",
   "outputs": [],
   "source": [
    "def text_tiling(text: str, num_blocks: int, max_block_size: int) -> List[List[Sentence]]:\n",
    "    \"\"\"\n",
    "    Segment the text into coherent sections using the text tiling algorithm.\n",
    "    1. Preprocess the text so that we have a list of Sentence objects\n",
    "    2. Initialize blocks (lists of Sentences) with a fixed size\n",
    "    3. Iterate until no change in the blocks\n",
    "        - Calculate the intra-block cohesion for each Sentence\n",
    "        - Find Sentences where the topic changes (the cohesion is lower than the one of the adjacent Sentences)\n",
    "        - Move block boundaries to the topic change points\n",
    "    4. Return the blocks of text\n",
    "    :param text: the text to be segmented\n",
    "    :param num_blocks: the number of blocks to split the text into\n",
    "    :param max_block_size: the maximum number of Sentences in each block\n",
    "    :return: \n",
    "    \"\"\"\n",
    "    \n",
    "    # TODO Refactor block. Now it is a class\n",
    "    \n",
    "    # Preprocess the text\n",
    "    sentences = preprocess_text(text)\n",
    "    \n",
    "    # Initialize blocks of text\n",
    "    blocks = initialize_blocks(sentences, num_blocks)\n",
    "    \n",
    "    n_times_no_change = 0\n",
    "    # Iterate until no change in the blocks\n",
    "    while n_times_no_change < 3:\n",
    "        # Calculate the intra-group cohesion for each block\n",
    "        cohesion_scores: List[float] = []\n",
    "        for block in blocks:\n",
    "            # Calculate the cohesion score for the block\n",
    "            block_cohesion_scores = calculate_intra_block_cohesion(block)\n",
    "            cohesion_scores + block_cohesion_scores\n",
    "            \n",
    "        # Find blocks of text where the topic changes\n",
    "        change_points = find_topic_change_points(cohesion_scores)\n",
    "        \n",
    "        # Move block boundaries to the topic change points\n",
    "        new_blocks = move_block_boundaries(blocks, change_points, max_block_size)\n",
    "        \n",
    "        # Check if the blocks have changed\n",
    "        if new_blocks == blocks:\n",
    "            n_times_no_change += 1\n",
    "        else:\n",
    "            n_times_no_change = 0\n",
    "            blocks = new_blocks\n",
    "    "
   ],
   "metadata": {
    "collapsed": false,
    "ExecuteTime": {
     "start_time": "2024-04-04T15:42:15.230876Z"
    }
   },
   "id": "a93feb0ee7c6c9a6",
   "execution_count": null
  }
 ],
 "metadata": {
  "kernelspec": {
   "display_name": "Python 3",
   "language": "python",
   "name": "python3"
  },
  "language_info": {
   "codemirror_mode": {
    "name": "ipython",
    "version": 2
   },
   "file_extension": ".py",
   "mimetype": "text/x-python",
   "name": "python",
   "nbconvert_exporter": "python",
   "pygments_lexer": "ipython2",
   "version": "2.7.6"
  }
 },
 "nbformat": 4,
 "nbformat_minor": 5
}
