{
 "cells": [
  {
   "cell_type": "markdown",
   "source": [
    "We will implement a text tiling algorithm to segment the text into coherent sections. The algorithm is based on the following steps:\n",
    "1. Split the text in sentences\n",
    "2. Clean the sentences by removing stopwords and punctuation\n",
    "3. Find frequency table for the words in the sentences\n",
    "    - The x-axis is the sentence number\n",
    "    - The y-axis is each word\n",
    "    - Each cell is the frequency of the word in the sentence\n",
    "4. Initialize blocks of text with a fixed size\n",
    "5. Iterate until no change in the blocks\n",
    "    - Calculate the intra-group cohesion for each block\n",
    "    - Find blocks of text where the topic changes (the cohesion drops in these blocks)\n",
    "    - Move block boundaries to the topic change points\n",
    "6. Return the blocks of text"
   ],
   "metadata": {
    "collapsed": false
   },
   "id": "f2128fb72ea87456"
  },
  {
   "cell_type": "code",
   "outputs": [],
   "source": [
    "import nltk\n",
    "import numpy as np\n",
    "from collections import Counter"
   ],
   "metadata": {
    "collapsed": false,
    "ExecuteTime": {
     "end_time": "2024-04-03T15:50:05.995028Z",
     "start_time": "2024-04-03T15:50:02.781718Z"
    }
   },
   "id": "5dd6f9034c1ec2a7",
   "execution_count": 7
  },
  {
   "cell_type": "code",
   "outputs": [
    {
     "data": {
      "text/plain": "['In order to get to punch his badge at 08:30, 16 years before Fantozzi began setting alarm clock at 06:15.',\n 'Today, after continuous experiments and improvements, he manage to set it at 07:51: the limit of humanly possibilities.',\n \"Everything is calculated on the edge of seconds: 5 seconds to regain consciousness; 4 seconds to overcome impact of seeing his wife, and 6 more seconds to ask himself -as always with any plausible answer- whatever pushed him to marry that kind of curious pet; 3 seconds to drink Mrs Fantozzi's coffee: 3000 Fahreneit Degrees!\",\n 'From 8 to 10 seconds to cool down his burned tongue... 2.5 seconds to kiss his daughter Mariangela; brioche and Latte meanwhile hair brushing, brushing coffee-flavoured teeth with minty toothpaste, resulting in an instantaneous bowel movement... all of this performed in 6 seconds, a European Record!',\n 'He still has a 3-minute fortune to get dressed and run to the bus stop to catch the 08:01 bus.']"
     },
     "execution_count": 8,
     "metadata": {},
     "output_type": "execute_result"
    }
   ],
   "source": [
    "# retrieve text from res/mixed_texts.txt\n",
    "with open('res/mixed_texts.txt', 'r') as file:\n",
    "    text = file.read()\n",
    "\n",
    "# split the text into sentences\n",
    "sentences = nltk.sent_tokenize(text)\n",
    "\n",
    "# print the first 5 sentences\n",
    "sentences[:5]"
   ],
   "metadata": {
    "collapsed": false,
    "ExecuteTime": {
     "end_time": "2024-04-03T15:50:06.026332Z",
     "start_time": "2024-04-03T15:50:06.002612Z"
    }
   },
   "id": "ea8ccdbbb0b10862",
   "execution_count": 8
  },
  {
   "cell_type": "code",
   "outputs": [
    {
     "data": {
      "text/plain": "[['order',\n  'get',\n  'punch',\n  'badge',\n  '08:30',\n  '16',\n  'years',\n  'fantozzi',\n  'began',\n  'setting',\n  'alarm',\n  'clock',\n  '06:15'],\n ['today',\n  'continuous',\n  'experiments',\n  'improvements',\n  'manage',\n  'set',\n  '07:51',\n  'limit',\n  'humanly',\n  'possibilities'],\n ['everything',\n  'calculated',\n  'edge',\n  'seconds',\n  '5',\n  'seconds',\n  'regain',\n  'consciousness',\n  '4',\n  'seconds',\n  'overcome',\n  'impact',\n  'seeing',\n  'wife',\n  '6',\n  'seconds',\n  'ask',\n  '-as',\n  'always',\n  'plausible',\n  'answer-',\n  'whatever',\n  'pushed',\n  'marry',\n  'kind',\n  'curious',\n  'pet',\n  '3',\n  'seconds',\n  'drink',\n  'mrs',\n  'fantozzi',\n  \"'s\",\n  'coffee',\n  '3000',\n  'fahreneit',\n  'degrees'],\n ['8',\n  '10',\n  'seconds',\n  'cool',\n  'burned',\n  'tongue',\n  '...',\n  '2.5',\n  'seconds',\n  'kiss',\n  'daughter',\n  'mariangela',\n  'brioche',\n  'latte',\n  'meanwhile',\n  'hair',\n  'brushing',\n  'brushing',\n  'coffee-flavoured',\n  'teeth',\n  'minty',\n  'toothpaste',\n  'resulting',\n  'instantaneous',\n  'bowel',\n  'movement',\n  '...',\n  'performed',\n  '6',\n  'seconds',\n  'european',\n  'record'],\n ['still',\n  '3-minute',\n  'fortune',\n  'get',\n  'dressed',\n  'run',\n  'bus',\n  'stop',\n  'catch',\n  '08:01',\n  'bus']]"
     },
     "execution_count": 9,
     "metadata": {},
     "output_type": "execute_result"
    }
   ],
   "source": [
    "# remove stopwords and punctuation\n",
    "from nltk.corpus import stopwords\n",
    "from string import punctuation\n",
    "\n",
    "# get the list of stopwords\n",
    "stopwords_list = stopwords.words('english')\n",
    "\n",
    "# remove stopwords and punctuation\n",
    "cleaned_sentences = []\n",
    "for sentence in sentences:\n",
    "    cleaned_sentence = [word.lower() for word in nltk.word_tokenize(sentence) if word.lower() not in stopwords_list and word not in punctuation]\n",
    "    cleaned_sentences.append(cleaned_sentence)\n",
    "    \n",
    "# print the first 5 cleaned sentences\n",
    "cleaned_sentences[:5]"
   ],
   "metadata": {
    "collapsed": false,
    "ExecuteTime": {
     "end_time": "2024-04-03T15:50:06.072594Z",
     "start_time": "2024-04-03T15:50:06.029865Z"
    }
   },
   "id": "d4fb0e2b6091c421",
   "execution_count": 9
  },
  {
   "cell_type": "code",
   "outputs": [
    {
     "data": {
      "text/plain": "[Counter({'order': 1,\n          'get': 1,\n          'punch': 1,\n          'badge': 1,\n          '08:30': 1,\n          '16': 1,\n          'years': 1,\n          'fantozzi': 1,\n          'began': 1,\n          'setting': 1,\n          'alarm': 1,\n          'clock': 1,\n          '06:15': 1}),\n Counter({'today': 1,\n          'continuous': 1,\n          'experiments': 1,\n          'improvements': 1,\n          'manage': 1,\n          'set': 1,\n          '07:51': 1,\n          'limit': 1,\n          'humanly': 1,\n          'possibilities': 1}),\n Counter({'seconds': 5,\n          'everything': 1,\n          'calculated': 1,\n          'edge': 1,\n          '5': 1,\n          'regain': 1,\n          'consciousness': 1,\n          '4': 1,\n          'overcome': 1,\n          'impact': 1,\n          'seeing': 1,\n          'wife': 1,\n          '6': 1,\n          'ask': 1,\n          '-as': 1,\n          'always': 1,\n          'plausible': 1,\n          'answer-': 1,\n          'whatever': 1,\n          'pushed': 1,\n          'marry': 1,\n          'kind': 1,\n          'curious': 1,\n          'pet': 1,\n          '3': 1,\n          'drink': 1,\n          'mrs': 1,\n          'fantozzi': 1,\n          \"'s\": 1,\n          'coffee': 1,\n          '3000': 1,\n          'fahreneit': 1,\n          'degrees': 1}),\n Counter({'seconds': 3,\n          '...': 2,\n          'brushing': 2,\n          '8': 1,\n          '10': 1,\n          'cool': 1,\n          'burned': 1,\n          'tongue': 1,\n          '2.5': 1,\n          'kiss': 1,\n          'daughter': 1,\n          'mariangela': 1,\n          'brioche': 1,\n          'latte': 1,\n          'meanwhile': 1,\n          'hair': 1,\n          'coffee-flavoured': 1,\n          'teeth': 1,\n          'minty': 1,\n          'toothpaste': 1,\n          'resulting': 1,\n          'instantaneous': 1,\n          'bowel': 1,\n          'movement': 1,\n          'performed': 1,\n          '6': 1,\n          'european': 1,\n          'record': 1}),\n Counter({'bus': 2,\n          'still': 1,\n          '3-minute': 1,\n          'fortune': 1,\n          'get': 1,\n          'dressed': 1,\n          'run': 1,\n          'stop': 1,\n          'catch': 1,\n          '08:01': 1})]"
     },
     "execution_count": 10,
     "metadata": {},
     "output_type": "execute_result"
    }
   ],
   "source": [
    "# create a frequency table for the words in the sentences\n",
    "frequency_table = []\n",
    "\n",
    "for sentence in cleaned_sentences:\n",
    "    # get counts of word frequency in the sentence\n",
    "    frequency = Counter(sentence)\n",
    "    frequency_table.append(frequency)\n",
    "    \n",
    "# print the frequency table for the first 5 sentences\n",
    "frequency_table[:5]"
   ],
   "metadata": {
    "collapsed": false,
    "ExecuteTime": {
     "end_time": "2024-04-03T15:50:06.119375Z",
     "start_time": "2024-04-03T15:50:06.078089Z"
    }
   },
   "id": "74007fabc282ffa8",
   "execution_count": 10
  },
  {
   "cell_type": "code",
   "outputs": [],
   "source": [],
   "metadata": {
    "collapsed": false,
    "ExecuteTime": {
     "end_time": "2024-04-03T15:50:06.150151Z",
     "start_time": "2024-04-03T15:50:06.127017Z"
    }
   },
   "id": "2b8168d18ff335ec",
   "execution_count": 10
  }
 ],
 "metadata": {
  "kernelspec": {
   "display_name": "Python 3",
   "language": "python",
   "name": "python3"
  },
  "language_info": {
   "codemirror_mode": {
    "name": "ipython",
    "version": 2
   },
   "file_extension": ".py",
   "mimetype": "text/x-python",
   "name": "python",
   "nbconvert_exporter": "python",
   "pygments_lexer": "ipython2",
   "version": "2.7.6"
  }
 },
 "nbformat": 4,
 "nbformat_minor": 5
}
