{
 "cells": [
  {
   "cell_type": "markdown",
   "source": [
    "We will implement a text segmentation algorithm. The algorithm is based on the following steps:\n",
    "1. Preprocess the text so that we have a list of Sentence objects\n",
    "2. Calculate the cohesion for each pair of adjacent sentences\n",
    "3. Find Sentences where the topic changes based on the cohesion scores: highest cohesion drops or lowest cohesion scores\n",
    "4. Move Block boundaries to the topic change points and return them. The Blocks will represent coherent sections of the text."
   ],
   "metadata": {
    "collapsed": false
   },
   "id": "f2128fb72ea87456"
  },
  {
   "cell_type": "code",
   "outputs": [
    {
     "name": "stdout",
     "output_type": "stream",
     "text": [
      "\u001B[38;5;2m✔ Download and installation successful\u001B[0m\n",
      "You can now load the package via spacy.load('en_core_web_md')\n",
      "\u001B[38;5;3m⚠ Restart to reload dependencies\u001B[0m\n",
      "If you are in a Jupyter or Colab notebook, you may need to restart Python in\n",
      "order to load all the package's dependencies. You can do this by selecting the\n",
      "'Restart kernel' or 'Restart runtime' option.\n"
     ]
    }
   ],
   "source": [
    "from enum import Enum\n",
    "from typing import List, Tuple\n",
    "import numpy as np\n",
    "from string import punctuation\n",
    "import matplotlib.pyplot as plt\n",
    "\n",
    "import nltk\n",
    "from nltk.corpus import stopwords\n",
    "from sklearn.feature_extraction.text import TfidfVectorizer\n",
    "from sklearn.metrics.pairwise import cosine_similarity\n",
    "import spacy\n",
    "\n",
    "spacy.cli.download(\"en_core_web_md\")\n",
    "spacy_vectorizer = spacy.load(\"en_core_web_md\")"
   ],
   "metadata": {
    "collapsed": false,
    "ExecuteTime": {
     "end_time": "2024-04-23T16:53:21.084137500Z",
     "start_time": "2024-04-23T16:53:14.934420400Z"
    }
   },
   "id": "5dd6f9034c1ec2a7",
   "execution_count": 115
  },
  {
   "cell_type": "markdown",
   "source": [
    "### Classes used for representing sentences and block of sentences"
   ],
   "metadata": {
    "collapsed": false
   },
   "id": "90b2dc7caf6cf876"
  },
  {
   "cell_type": "code",
   "outputs": [],
   "source": [
    "class Sentence:\n",
    "    def __init__(self, text: str, words: List[str]):\n",
    "        self.text = text\n",
    "        self.words = words\n",
    "        \n",
    "    def __eq__(self, other):\n",
    "        return self.text == other.text\n",
    "        \n",
    "    def __repr__(self):\n",
    "        return self.text\n",
    "    \n",
    "class Block:\n",
    "    def __init__(self, sentences: List[Sentence]):\n",
    "        self.sentences = sentences\n",
    "        \n",
    "    def __len__(self):\n",
    "        return len(self.sentences)\n",
    "    \n",
    "    def __eq__(self, other):\n",
    "        if len(self.sentences) != len(other.sentences):\n",
    "            return False\n",
    "        # true if all sentences equal\n",
    "        return all([self.sentences[i] == other.sentences[i] for i in range(len(self.sentences))])\n",
    "        \n",
    "    def __repr__(self):\n",
    "        return \" \".join([sentence.text for sentence in self.sentences])\n",
    "    \n",
    "    def get_string_sentences(self) -> List[str]:\n",
    "        return [\" \".join(sentence.words) for sentence in self.sentences]"
   ],
   "metadata": {
    "collapsed": false,
    "ExecuteTime": {
     "end_time": "2024-04-23T16:53:21.105141800Z",
     "start_time": "2024-04-23T16:53:21.089138600Z"
    }
   },
   "id": "ffba7c5a7aaf9b22",
   "execution_count": 116
  },
  {
   "cell_type": "markdown",
   "source": [
    "### Retrieve input texts"
   ],
   "metadata": {
    "collapsed": false
   },
   "id": "c49ee3a63ace29d4"
  },
  {
   "cell_type": "code",
   "outputs": [],
   "source": [
    "# retrieve text from res/mixed_texts.txt\n",
    "with open('res/mixed_texts.txt', 'r') as file:\n",
    "    raw_text = file.read()"
   ],
   "metadata": {
    "collapsed": false,
    "ExecuteTime": {
     "end_time": "2024-04-23T16:53:21.148141900Z",
     "start_time": "2024-04-23T16:53:21.105141800Z"
    }
   },
   "id": "ea8ccdbbb0b10862",
   "execution_count": 117
  },
  {
   "cell_type": "markdown",
   "source": [
    "### 1. Preprocess the text"
   ],
   "metadata": {
    "collapsed": false
   },
   "id": "89ada8c02b66d784"
  },
  {
   "cell_type": "code",
   "outputs": [],
   "source": [
    "def preprocess_text(text: str) -> Tuple[List[Sentence], List[int]]:\n",
    "    \"\"\"\n",
    "    Preprocess the text by splitting it into sentences, removing stopwords and punctuation, and lemmatizing the words.\n",
    "    :param text: the text to be preprocessed\n",
    "    :return: a list of Sentence objects and a list of correct indexes of topic changes (the last sentence index of each topic)\n",
    "    \"\"\"\n",
    "    # get the list of stopwords\n",
    "    stopwords_list = stopwords.words('english')\n",
    "    \n",
    "    sentence_list: List[Sentence] = []\n",
    "    \n",
    "    # list to store indexes of topic changes, i.e. the last sentence index of each topic\n",
    "    topic_changes: List[int] = []\n",
    "    \n",
    "    # split the text into sentences\n",
    "    sentences = nltk.sent_tokenize(text)\n",
    "    \n",
    "    # remove stopwords and punctuation\n",
    "    for sentence in sentences:\n",
    "        relevant_words = [word.lower() for word in nltk.word_tokenize(sentence) if word.lower() not in stopwords_list and word not in punctuation]\n",
    "        # lemmatize relevant words\n",
    "        lemmatizer = nltk.WordNetLemmatizer()\n",
    "        relevant_words = [lemmatizer.lemmatize(word) for word in relevant_words]\n",
    "        sentence_list.append(Sentence(sentence, relevant_words))\n",
    "    \n",
    "    # find indexes of topic change. the topic change is indicated by the \"<CHANGE>\" token\n",
    "    # the \"<CHANGE>\" token is considered as a separate sentence, so we remove it from the sentence list and store the index of the previous sentence (i.e. the last sentence of the previous topic)\n",
    "    for i, sentence in enumerate(sentence_list):\n",
    "        if \"<CHANGE>\" in sentence.text:\n",
    "            topic_changes.append(i-1)\n",
    "            sentence_list.remove(sentence)     \n",
    "    return sentence_list, topic_changes"
   ],
   "metadata": {
    "collapsed": false,
    "ExecuteTime": {
     "end_time": "2024-04-23T16:53:21.150140900Z",
     "start_time": "2024-04-23T16:53:21.126145500Z"
    }
   },
   "id": "d4fb0e2b6091c421",
   "execution_count": 118
  },
  {
   "cell_type": "markdown",
   "source": [
    "### 2. Calculate adjacent sentences cohesion\n",
    "\n",
    "We will calculate the cohesion between each pair of adjacent sentences. We tested three methods for calculating cohesion:\n",
    "1. **TF-IDF**: Calculate the cosine similarity between the TF-IDF vectors of adjacent sentences.\n",
    "2. **Overlap**: Calculate the overlap of words between adjacent sentences.\n",
    "3. **Spacy**: Calculate the similarity between the Spacy vectors of adjacent sentences."
   ],
   "metadata": {
    "collapsed": false
   },
   "id": "f74642461259a0e0"
  },
  {
   "cell_type": "code",
   "execution_count": 119,
   "outputs": [],
   "source": [
    "class CohesionMethod(Enum):\n",
    "    TF_IDF = \"tf_idf\"\n",
    "    OVERLAP = \"overlap\"\n",
    "    SPACY = \"spacy\"\n",
    "\n",
    "def calculate_cohesion(sentences: List[Sentence], method: CohesionMethod = CohesionMethod.SPACY) -> List[float]:\n",
    "    \"\"\"\n",
    "    Calculate the cohesion between adjacent sentences based on the chosen method.\n",
    "    :param sentences: List of Sentence objects.\n",
    "    :param method: Method to use for calculating cohesion.\n",
    "    :return: List of cohesion scores between adjacent sentences.\n",
    "    \"\"\"\n",
    "    match method:\n",
    "        case CohesionMethod.TF_IDF:\n",
    "            return cohesion_tf_idf(sentences)\n",
    "        case CohesionMethod.OVERLAP:\n",
    "            return cohesion_overlap(sentences)\n",
    "        case CohesionMethod.SPACY:\n",
    "            return cohesion_spacy(sentences)"
   ],
   "metadata": {
    "collapsed": false,
    "ExecuteTime": {
     "end_time": "2024-04-23T16:53:21.153138600Z",
     "start_time": "2024-04-23T16:53:21.134140100Z"
    }
   },
   "id": "e176bb9784118ced"
  },
  {
   "cell_type": "code",
   "outputs": [],
   "source": [
    "def cohesion_tf_idf(sentences: List[Sentence]) -> List[float]:\n",
    "    \"\"\"\n",
    "    Calculate the cohesion between adjacent sentences based on the cosine similarity of their TF-IDF vectors.\n",
    "    \"\"\"\n",
    "    # TF-IDF vectorization\n",
    "    vectorizer = TfidfVectorizer()\n",
    "    tfidf_matrix = vectorizer.fit_transform([\" \".join(sentence.words) for sentence in sentences])\n",
    "\n",
    "    # Calculate cosine similarity between adjacent sentences\n",
    "    cohesion_scores = []\n",
    "    for i in range(len(sentences) - 1):\n",
    "        sim_score = cosine_similarity(tfidf_matrix[i], tfidf_matrix[i+1])\n",
    "        cohesion_scores.append(sim_score[0][0])\n",
    "\n",
    "    return cohesion_scores"
   ],
   "metadata": {
    "collapsed": false,
    "ExecuteTime": {
     "end_time": "2024-04-23T16:53:21.176142200Z",
     "start_time": "2024-04-23T16:53:21.155139300Z"
    }
   },
   "id": "200db4fe52615fdc",
   "execution_count": 120
  },
  {
   "cell_type": "code",
   "execution_count": 121,
   "outputs": [],
   "source": [
    "def cohesion_overlap(sentences: List[Sentence]) -> List[float]:\n",
    "    \"\"\"\n",
    "    Calculate the cohesion between adjacent sentences based on the overlap of words.\n",
    "    \"\"\"\n",
    "    sentence_list = [sentence.words for sentence in sentences]\n",
    "\n",
    "    scores = []\n",
    "    for i in range(len(sentence_list)-1):\n",
    "        set1 = set(sentence_list[i])\n",
    "        set2 = set(sentence_list[i+1])\n",
    "        intersection = len(set1.intersection(set2))\n",
    "        score = intersection / (len(set1) + len(set2) - intersection)\n",
    "        scores.append(score)\n",
    "    return scores"
   ],
   "metadata": {
    "collapsed": false,
    "ExecuteTime": {
     "end_time": "2024-04-23T16:53:21.220144Z",
     "start_time": "2024-04-23T16:53:21.173141900Z"
    }
   },
   "id": "4f79167c2910093c"
  },
  {
   "cell_type": "code",
   "execution_count": 122,
   "outputs": [],
   "source": [
    "def cohesion_spacy(sentences: List[Sentence]) -> List[float]:\n",
    "    \"\"\"\n",
    "    Calculate the cohesion between adjacent sentences based on the similarity of their Spacy vectors.\n",
    "    \"\"\"\n",
    "    cohesion_scores = []\n",
    "    \n",
    "    for i in range(len(sentences) - 1):\n",
    "        doc1 = spacy_vectorizer(\" \".join(sentences[i].words))\n",
    "        doc2 = spacy_vectorizer(\" \".join(sentences[i+1].words))\n",
    "        sim_score = doc1.similarity(doc2)\n",
    "        cohesion_scores.append(sim_score)\n",
    "\n",
    "    return cohesion_scores"
   ],
   "metadata": {
    "collapsed": false,
    "ExecuteTime": {
     "end_time": "2024-04-23T16:53:21.220144Z",
     "start_time": "2024-04-23T16:53:21.184140500Z"
    }
   },
   "id": "bb47946b6d4ea26e"
  },
  {
   "cell_type": "markdown",
   "source": [
    "Quick test of cohesion calculation"
   ],
   "metadata": {
    "collapsed": false
   },
   "id": "16f46b9b57ba3240"
  },
  {
   "cell_type": "code",
   "execution_count": 123,
   "outputs": [
    {
     "name": "stdout",
     "output_type": "stream",
     "text": [
      "Tf_idf cohesion scores: [0.0, 0.4179779031144455]\n",
      "Overlap cohesion scores: [0.0, 0.2222222222222222]\n",
      "Spacy cohesion scores: [0.4905806410251649, 0.9547883674863402]\n"
     ]
    }
   ],
   "source": [
    "text = \"This is a sample text. It demonstrates how to calculate intra-document cohesion between sentences. Intra-document cohesion is important for understanding the coherence of a document.\"\n",
    "sentences, topic_changes_indexes = preprocess_text(text)\n",
    "\n",
    "for method in CohesionMethod:\n",
    "    cohesion_scores = calculate_cohesion(sentences, method)\n",
    "    print(f\"{method.value.capitalize()} cohesion scores:\", cohesion_scores)"
   ],
   "metadata": {
    "collapsed": false,
    "ExecuteTime": {
     "end_time": "2024-04-23T16:53:21.302195Z",
     "start_time": "2024-04-23T16:53:21.196137600Z"
    }
   },
   "id": "bbca333e34113950"
  },
  {
   "cell_type": "markdown",
   "source": [
    "Saving sentences list, topic changes indexes and cohesion scores for the text since we will use them later and we don't need to change them."
   ],
   "metadata": {
    "collapsed": false
   },
   "id": "32b4f1c8df15f45f"
  },
  {
   "cell_type": "code",
   "execution_count": 124,
   "outputs": [],
   "source": [
    "MAIN_SENT_LIST, MAIN_TOPIC_CHANGES_INDEXES = preprocess_text(raw_text)\n",
    "MAIN_COHESION_SCORES = calculate_cohesion(MAIN_SENT_LIST, CohesionMethod.SPACY)"
   ],
   "metadata": {
    "collapsed": false,
    "ExecuteTime": {
     "end_time": "2024-04-23T16:53:21.647912900Z",
     "start_time": "2024-04-23T16:53:21.259663400Z"
    }
   },
   "id": "1ff9efdcb428e371"
  },
  {
   "cell_type": "markdown",
   "source": [
    "#### Plotting function\n",
    "We define a function to plot the cohesion scores and highlight the topic change points.\n",
    "We can also provide and highlight the topic change points that were found by the algorithm, in order to compare them with the actual topic change points."
   ],
   "metadata": {
    "collapsed": false
   },
   "id": "950bbc3c94d15f43"
  },
  {
   "cell_type": "code",
   "execution_count": 125,
   "outputs": [],
   "source": [
    "def plot_text_segmentation(cohesion_scores: List[float], topic_changes_indexes: List[int], topic_changes_found: List[int] = None):\n",
    "    \"\"\"\n",
    "    Plot the cohesion scores between sentences and highlight the topic change points. If topic_changes_found is provided, highlight them as well.\n",
    "    :param cohesion_scores: List of cohesion scores between sentences.\n",
    "    :param topic_changes_indexes: List of indexes of correct topic changes.\n",
    "    :param topic_changes_found: List of indexes of topic changes found by an algorithm.\n",
    "    \"\"\"\n",
    "    plt.plot(cohesion_scores)\n",
    "    plt.xlabel(\"Sentence number\")\n",
    "    plt.ylabel(\"Cohesion score\")\n",
    "    # plt.xticks(range(0, len(cohesion_scores), 3))\n",
    "    plt.xticks(range(len(cohesion_scores)))\n",
    "    for i in topic_changes_indexes:\n",
    "        plt.axvline(x=i, color='r', linestyle='-')\n",
    "    if topic_changes_found:\n",
    "        for i in topic_changes_found:\n",
    "            plt.axvline(x=i, color='g', linestyle='dotted')\n",
    "    plt.show()"
   ],
   "metadata": {
    "collapsed": false,
    "ExecuteTime": {
     "end_time": "2024-04-23T16:53:21.662911800Z",
     "start_time": "2024-04-23T16:53:21.648914600Z"
    }
   },
   "id": "96502fa735d589c8"
  },
  {
   "cell_type": "markdown",
   "source": [
    "Plot the cohesion scores and highlight the correct topic change points"
   ],
   "metadata": {
    "collapsed": false
   },
   "id": "6e0f69a57c599cc9"
  },
  {
   "cell_type": "code",
   "execution_count": 126,
   "outputs": [
    {
     "data": {
      "text/plain": "<Figure size 640x480 with 1 Axes>",
      "image/png": "[encoded data removed]"
     },
     "metadata": {},
     "output_type": "display_data"
    },
    {
     "name": "stdout",
     "output_type": "stream",
     "text": [
      "Last sentence index of topic: 5\n",
      "Sentence: Mussolini denounced the PSI, his views now were centering on Italian nationalism instead of socialism, and used his newspaper, Il Popolo d'Italia, to promote the war.\n",
      "Cohesion score: 0.4746724733147802\n",
      "\n",
      "Last sentence index of topic: 17\n",
      "Sentence: Below are the Bible verses and Scriptures that both prophesize the resurrection of Jesus and testify of the reality of the resurrected body of Christ.\n",
      "Cohesion score: 0.5566012625374582\n"
     ]
    }
   ],
   "source": [
    "plot_text_segmentation(MAIN_COHESION_SCORES, MAIN_TOPIC_CHANGES_INDEXES)\n",
    "# for each topic change, print the corresponding sentence\n",
    "for i in MAIN_TOPIC_CHANGES_INDEXES:\n",
    "    print(f\"Last sentence index of topic: {i}\")\n",
    "    print(f\"Sentence: {MAIN_SENT_LIST[i]}\")\n",
    "    print(f\"Cohesion score: {MAIN_COHESION_SCORES[i]}\\n\")"
   ],
   "metadata": {
    "collapsed": false,
    "ExecuteTime": {
     "end_time": "2024-04-23T16:53:21.866289500Z",
     "start_time": "2024-04-23T16:53:21.664916Z"
    }
   },
   "id": "362c000b9d018b3f"
  },
  {
   "cell_type": "markdown",
   "source": [
    "### 3. Find sentences where the topic changes\n",
    "\n",
    "We will now look for the sentences where the topic changes. In particular we look for the last sentence of each topic. We considered two methods for finding topic change points:\n",
    "1. **Drops**: Identify the indices for topic change points based on the highest drops in cohesion scores.\n",
    "2. **Min cohesion**: Identify the indices for topic change points based on the lowest cohesion scores."
   ],
   "metadata": {
    "collapsed": false
   },
   "id": "5685fa2d6ec790f5"
  },
  {
   "cell_type": "code",
   "execution_count": 127,
   "outputs": [],
   "source": [
    "class ChangePointsMethod(Enum):\n",
    "    DROPS = \"drops\"\n",
    "    MIN_COHESION = \"min_cohesion\" \n",
    "\n",
    "def find_topic_change_points(cohesion_scores: List[float], num_splits: int, \n",
    "                             method: ChangePointsMethod = ChangePointsMethod.DROPS) -> List[int]:\n",
    "    \"\"\"\n",
    "    Identify the indices for topic change points based on the chosen method.\n",
    "    :param cohesion_scores: List of cohesion scores between sentences.\n",
    "    :param num_splits: Number of splits (topic changes) to make.\n",
    "    :param method: Method to use for finding topic change points.\n",
    "    :return: Last sentence index of each topic.\n",
    "    \"\"\"\n",
    "    \n",
    "    match method:\n",
    "        case ChangePointsMethod.DROPS:\n",
    "            return find_topic_change_points_drops(cohesion_scores, num_splits)\n",
    "        case ChangePointsMethod.MIN_COHESION:\n",
    "            return find_topic_change_points_min_cohesion(cohesion_scores, num_splits)"
   ],
   "metadata": {
    "collapsed": false,
    "ExecuteTime": {
     "end_time": "2024-04-23T16:53:21.955287200Z",
     "start_time": "2024-04-23T16:53:21.869282100Z"
    }
   },
   "id": "fba5d8d0f8c5414a"
  },
  {
   "cell_type": "code",
   "execution_count": 128,
   "outputs": [],
   "source": [
    "def find_topic_change_points_drops(cohesion_scores: List[float], num_splits: int) -> List[int]:\n",
    "    \"\"\"\n",
    "    Identify the indices for topic change points based on the highest drops in cohesion scores.\n",
    "    \"\"\"\n",
    "    # calculate drops in cohesion scores\n",
    "    drops = [cohesion_scores[i-1] - cohesion_scores[i] + cohesion_scores[i+1] for i in range(1, len(cohesion_scores)-1)]\n",
    "\n",
    "    # drop indexes sorted in ascending order\n",
    "    drops_indexes_sorted_asc = np.argsort(drops)\n",
    "\n",
    "    # deepest num_splits drop indexes, sorted in ascending order\n",
    "    deepest_drops_indexes_sorted_asc = drops_indexes_sorted_asc[-num_splits+1:] # +1 to exclude one drop (3 topic -> 2 cp -> 2 drops)\n",
    "    # sort the deepest drops indexes in ascending order\n",
    "    change_points = np.sort(deepest_drops_indexes_sorted_asc)\n",
    "\n",
    "    return [cp + 1 for cp in change_points]  # Adjust indices to point to sentences after the drops."
   ],
   "metadata": {
    "collapsed": false,
    "ExecuteTime": {
     "end_time": "2024-04-23T16:53:21.968282400Z",
     "start_time": "2024-04-23T16:53:21.883283300Z"
    }
   },
   "id": "b796c13d03c5878f"
  },
  {
   "cell_type": "code",
   "execution_count": 129,
   "outputs": [],
   "source": [
    "def find_topic_change_points_min_cohesion(cohesion_scores: List[float], num_splits: int) -> List[int]:\n",
    "    \"\"\"\n",
    "    Identify the indices for topic change points based on the lowest cohesion scores.\n",
    "    \"\"\"\n",
    "    # cohesion scores indexes sorted in ascending order\n",
    "    cohesion_scores_indexes_sorted_asc = np.argsort(cohesion_scores)\n",
    "\n",
    "    # lowest cohesion scores indexes\n",
    "    lowest_cs_indexes = cohesion_scores_indexes_sorted_asc[:num_splits-1]\n",
    "\n",
    "    # sort the lowest cohesion scores indexes in ascending order\n",
    "    change_points = np.sort(lowest_cs_indexes)\n",
    "\n",
    "    return [cp for cp in change_points]  # Adjust indices to point to sentences after the drops."
   ],
   "metadata": {
    "collapsed": false,
    "ExecuteTime": {
     "end_time": "2024-04-23T16:53:21.968282400Z",
     "start_time": "2024-04-23T16:53:21.896281200Z"
    }
   },
   "id": "2c92cc8b47a7ee31"
  },
  {
   "cell_type": "markdown",
   "source": [
    "### 4. Move Block boundaries to the topic change points\n",
    "\n",
    "We will now create new blocks based on the identified topic change points. Each change point will indicate the last sentence of a block, so we will move the block boundaries accordingly."
   ],
   "metadata": {
    "collapsed": false
   },
   "id": "69d377554cf02860"
  },
  {
   "cell_type": "code",
   "execution_count": 130,
   "outputs": [],
   "source": [
    "def move_block_boundaries(sentences: List[Sentence], change_points: List[int]) -> List[Block]:\n",
    "    \"\"\"\n",
    "    Create new blocks based on the identified topic change points.\n",
    "    :param sentences: List of all sentences.\n",
    "    :param change_points: Indices of sentences indicating topic changes.\n",
    "    :return: New list of blocks adjusted for topic changes.\n",
    "    \"\"\"\n",
    "    blocks = []\n",
    "    start_index = 0 # index of the first sentence in the currently iterated block\n",
    "    for cp in change_points:\n",
    "        new_block = Block(sentences[start_index:cp+1]) # cp corresponds to the last sentence of the block, should be included\n",
    "        blocks.append(new_block)\n",
    "        start_index = cp+1\n",
    "    # add the last block\n",
    "    last_block = Block(sentences[start_index:])\n",
    "    blocks.append(last_block)\n",
    "    return blocks"
   ],
   "metadata": {
    "collapsed": false,
    "ExecuteTime": {
     "end_time": "2024-04-23T16:53:21.968282400Z",
     "start_time": "2024-04-23T16:53:21.914279700Z"
    }
   },
   "id": "818113419fe825b9"
  },
  {
   "cell_type": "markdown",
   "source": [
    "### Final text segmentation function"
   ],
   "metadata": {
    "collapsed": false
   },
   "id": "6b145280f2c093a6"
  },
  {
   "cell_type": "code",
   "execution_count": 131,
   "outputs": [],
   "source": [
    "def text_segmentation(text: str, num_blocks: int = 3, \n",
    "                cohesion_method: CohesionMethod = CohesionMethod.SPACY,\n",
    "                change_points_method: ChangePointsMethod = ChangePointsMethod.DROPS) -> Tuple[List[Block], List[int]]:\n",
    "    \"\"\"\n",
    "    Segment the text into coherent sections.\n",
    "    1. Preprocess the text so that we have a list of Sentence objects\n",
    "    2. Calculate the cohesion for each pair of adjacent sentences\n",
    "    3. Find Sentences where the topic changes\n",
    "    4. Move Block boundaries to the topic change points\n",
    "    5. Return the Blocks and the indexes of topic changes (the last sentence index of each topic)\n",
    "    :param text: the text to be segmented\n",
    "    :param num_blocks: the number of Blocks to split the text into\n",
    "    :param cohesion_method: the method to use for calculating cohesion\n",
    "    :param change_points_method: the method to use for finding topic change points\n",
    "    :return: a list of Blocks and a list of indexes of topic changes (the last sentence index of each topic)\n",
    "    \"\"\"\n",
    "    \n",
    "    # preprocess the text\n",
    "    sentences, _ = preprocess_text(text)\n",
    "\n",
    "    # calculate cohesion scores between adjacent sentences\n",
    "    cohesion_scores: List[float] = calculate_cohesion(sentences, cohesion_method)\n",
    "    \n",
    "    # find blocks of text where the topic changes\n",
    "    change_points = find_topic_change_points(cohesion_scores, num_blocks, change_points_method)\n",
    "    \n",
    "    # move block boundaries to the topic change points\n",
    "    new_blocks = move_block_boundaries(sentences, change_points)\n",
    "        \n",
    "    return new_blocks, change_points"
   ],
   "metadata": {
    "collapsed": false,
    "ExecuteTime": {
     "end_time": "2024-04-23T16:53:21.970227Z",
     "start_time": "2024-04-23T16:53:21.927286700Z"
    }
   },
   "id": "a080e347580b71cf"
  },
  {
   "cell_type": "markdown",
   "source": [
    "### Test the text segmentation function\n",
    "\n",
    "We found that the best results are obtained by using the Spacy method for calculating cohesion and the Drops method for finding topic change points."
   ],
   "metadata": {
    "collapsed": false
   },
   "id": "8b524d1fdab6e7b8"
  },
  {
   "cell_type": "code",
   "execution_count": 132,
   "outputs": [
    {
     "name": "stdout",
     "output_type": "stream",
     "text": [
      "Block 1:\n",
      "Benito Amilcare Andrea Mussolini was an Italian dictator who founded and led the National Fascist Party (PNF).\n",
      "He was Prime Minister of Italy from the March on Rome in 1922 until his deposition in 1943, as well as Duce of Italian fascism from the establishment of the Italian Fasces of Combat in 1919 until his summary execution in 1945 by Italian partisans.\n",
      "As dictator of Italy and principal founder of fascism, Mussolini inspired and supported the international spread of fascist movements during the inter-war period.\n",
      "In 1912, Mussolini became a member of the National Directorate of the Italian Italian Socialist Party (PSI).\n",
      "In 1914, Mussolini founded a newspaper, Il Popolo d'Italia, and served in the Royal Italian Army during the war until he was wounded and discharged in 1917.\n",
      "Mussolini denounced the PSI, his views now were centering on Italian nationalism instead of socialism, and used his newspaper, Il Popolo d'Italia, to promote the war.\n",
      "\n",
      "Block 2:\n",
      "The Resurrection of Jesus Christ is the foundation of the Christian faith.\n",
      "Without the resurrection, the belief in God's saving grace through Jesus is destroyed.\n",
      "When Jesus rose from the dead, he confirmed his identity as the Son of God and his work of atonement, redemption, reconciliation, and salvation.\n",
      "The Resurrection was a literal, physical raising of Jesus body from the dead.\n",
      "Jesus was arrested, tried, and found guilty of claiming to be a king.\n",
      "Jesus body was hung on a cross between two thieves.\n",
      "After his death, Jesus body was wrapped in linen cloth and placed in a tomb with a large stone rolled across the opening.\n",
      "On the third day, an early Sunday morning, Mary Magdalene, mother of Jesus, and another Mary came to the tomb and found it empty, Jesus was disappeared.\n",
      "Sitting on the rolled-away stone was an angel of the Lord who told them not to be afraid because Jesus had risen.\n",
      "As the women left to tell the disciples, Jesus Christ met them and showed them his nail-pierced hands.\n",
      "The Old and the New Testaments speak of the truth of Jesus being raised from death - Jesus testified of his resurrection before He died on the cross, and his disciples witnessed his body after the resurrection.\n",
      "Below are the Bible verses and Scriptures that both prophesize the resurrection of Jesus and testify of the reality of the resurrected body of Christ.\n",
      "\n",
      "Block 3:\n",
      "A spectre is haunting Europe, the spectre of communism.\n",
      "All the powers of old Europe have entered into a holy alliance to exorcise this spectre: Pope and Tsar, Metternich and Guizot, French Radicals and German police-spies.\n",
      "Where is the party in opposition that has not been decried as communistic by its opponents in power?\n",
      "Where is the opposition that has not hurled back the branding reproach of communism, against the more advanced opposition parties, as well as against its reactionary adversaries?\n",
      "Two things result from this fact: Communism is already acknowledged by all European powers to be itself a power, It is high time that Communists should openly, in the face of the whole world, publish their views, their aims, their tendencies, and meet this nursery tale of the  spectre of communism with a manifesto of the party itself.\n",
      "To this end, Communists of various nationalities have assembled in London and sketched the following manifesto, to be published in the English, French, German, Italian, Flemish and Danish languages.\n"
     ]
    }
   ],
   "source": [
    "blocks, change_points = text_segmentation(raw_text)\n",
    "for i, block in enumerate(blocks):\n",
    "    print(f\"Block {i+1}:\")\n",
    "    for sentence in block.sentences:\n",
    "        print(sentence)\n",
    "    print()"
   ],
   "metadata": {
    "collapsed": false,
    "ExecuteTime": {
     "end_time": "2024-04-23T16:53:22.379595500Z",
     "start_time": "2024-04-23T16:53:21.944281Z"
    }
   },
   "id": "aa048d8b9de56b2d"
  },
  {
   "cell_type": "markdown",
   "source": [
    "Plot the cohesion scores and highlight the correct topic change points (red) and the topic change points found by the algorithm (green)."
   ],
   "metadata": {
    "collapsed": false
   },
   "id": "1bd7770422d68987"
  },
  {
   "cell_type": "code",
   "execution_count": 133,
   "outputs": [
    {
     "data": {
      "text/plain": "<Figure size 640x480 with 1 Axes>",
      "image/png": "[encoded data removed]"
     },
     "metadata": {},
     "output_type": "display_data"
    }
   ],
   "source": [
    "plot_text_segmentation(MAIN_COHESION_SCORES, MAIN_TOPIC_CHANGES_INDEXES, change_points)"
   ],
   "metadata": {
    "collapsed": false,
    "ExecuteTime": {
     "end_time": "2024-04-23T16:53:22.595686600Z",
     "start_time": "2024-04-23T16:53:22.367109600Z"
    }
   },
   "id": "7b2f53fa71a9452a"
  }
 ],
 "metadata": {
  "kernelspec": {
   "display_name": "Python 3",
   "language": "python",
   "name": "python3"
  },
  "language_info": {
   "codemirror_mode": {
    "name": "ipython",
    "version": 2
   },
   "file_extension": ".py",
   "mimetype": "text/x-python",
   "name": "python",
   "nbconvert_exporter": "python",
   "pygments_lexer": "ipython2",
   "version": "2.7.6"
  }
 },
 "nbformat": 4,
 "nbformat_minor": 5
}
